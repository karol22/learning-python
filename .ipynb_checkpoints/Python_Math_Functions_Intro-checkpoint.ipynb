{
 "cells": [
  {
   "cell_type": "markdown",
   "id": "a7ca970f",
   "metadata": {},
   "source": [
    "\n",
    "# Introduction to Python, Math, and Graphs\n",
    "Welcome to this introduction to Python programming and mathematical functions! This notebook will cover basic Python syntax for defining and working with mathematical functions, as well as visualizing them using plots.\n",
    "\n",
    "## Topics Covered\n",
    "- Defining mathematical functions in Python\n",
    "- Evaluating functions\n",
    "- Visualizing functions with graphs\n",
    "- Practical examples\n",
    "    "
   ]
  },
  {
   "cell_type": "code",
   "execution_count": null,
   "id": "866a3477",
   "metadata": {},
   "outputs": [],
   "source": [
    "# Import necessary libraries\n",
    "import numpy as np\n",
    "import matplotlib.pyplot as plt\n",
    "print(\"Libraries imported successfully!\")"
   ]
  },
  {
   "cell_type": "markdown",
   "id": "feeba593",
   "metadata": {},
   "source": [
    "\n",
    "## 1. Defining Mathematical Functions\n",
    "In Python, functions can be defined using the `def` keyword. Let's start with a simple function.\n"
   ]
  },
  {
   "cell_type": "code",
   "execution_count": null,
   "id": "274b3844",
   "metadata": {},
   "outputs": [],
   "source": [
    "# Define a simple function: f(x) = x^2\n",
    "def f(x):\n",
    "    return x**2\n",
    "\n",
    "# Test the function\n",
    "x = 3\n",
    "print(f\"f({x}) = {f(x)}\")"
   ]
  },
  {
   "cell_type": "markdown",
   "id": "658b61e6",
   "metadata": {},
   "source": [
    "\n",
    "## 2. Evaluating Functions Over a Range\n",
    "We often evaluate a function over a range of values. Using `numpy`, we can generate arrays of numbers to represent this range.\n"
   ]
  },
  {
   "cell_type": "code",
   "execution_count": null,
   "id": "45cc3eb6",
   "metadata": {},
   "outputs": [],
   "source": [
    "# Generate a range of x values\n",
    "x_values = np.linspace(-10, 10, 100)\n",
    "\n",
    "# Evaluate the function for these x values\n",
    "y_values = [f(x) for x in x_values]\n",
    "\n",
    "# Display the first few results\n",
    "print(\"x values:\", x_values[:5])\n",
    "print(\"y values:\", y_values[:5])"
   ]
  },
  {
   "cell_type": "markdown",
   "id": "adbb05a5",
   "metadata": {},
   "source": [
    "\n",
    "## 3. Visualizing Functions with Matplotlib\n",
    "We can use the `matplotlib` library to visualize the function as a graph.\n"
   ]
  },
  {
   "cell_type": "code",
   "execution_count": null,
   "id": "74eb8833",
   "metadata": {},
   "outputs": [],
   "source": [
    "# Plot the function\n",
    "plt.figure(figsize=(8, 6))\n",
    "plt.plot(x_values, y_values, label=\"f(x) = x^2\", color=\"blue\")\n",
    "plt.title(\"Graph of f(x) = x^2\")\n",
    "plt.xlabel(\"x\")\n",
    "plt.ylabel(\"f(x)\")\n",
    "plt.axhline(0, color='black',linewidth=0.5)\n",
    "plt.axvline(0, color='black',linewidth=0.5)\n",
    "plt.grid(color = 'gray', linestyle = '--', linewidth = 0.5)\n",
    "plt.legend()\n",
    "plt.show()"
   ]
  },
  {
   "cell_type": "markdown",
   "id": "2561d3f0",
   "metadata": {},
   "source": [
    "\n",
    "## 4. Exploring Other Functions\n",
    "Now, let's try plotting a few other mathematical functions, such as:\n",
    "- \\( g(x) = \\sin(x) \\)\n",
    "- \\( h(x) = \\exp(x) \\)\n"
   ]
  },
  {
   "cell_type": "code",
   "execution_count": null,
   "id": "c71a6fcd",
   "metadata": {},
   "outputs": [],
   "source": [
    "# Define additional functions\n",
    "def g(x):\n",
    "    return np.sin(x)\n",
    "\n",
    "def h(x):\n",
    "    return np.exp(x)\n",
    "\n",
    "# Generate y values for the new functions\n",
    "y_g = [g(x) for x in x_values]\n",
    "y_h = [h(x) for x in x_values if x < 3]  # Limit x for exp to avoid large values\n",
    "\n",
    "# Plot the functions\n",
    "plt.figure(figsize=(12, 6))\n",
    "\n",
    "# Plot g(x) = sin(x)\n",
    "plt.subplot(1, 2, 1)\n",
    "plt.plot(x_values, y_g, label=\"g(x) = sin(x)\", color=\"green\")\n",
    "plt.title(\"Graph of g(x) = sin(x)\")\n",
    "plt.xlabel(\"x\")\n",
    "plt.ylabel(\"g(x)\")\n",
    "plt.axhline(0, color='black',linewidth=0.5)\n",
    "plt.axvline(0, color='black',linewidth=0.5)\n",
    "plt.grid(color = 'gray', linestyle = '--', linewidth = 0.5)\n",
    "plt.legend()\n",
    "\n",
    "# Plot h(x) = exp(x)\n",
    "plt.subplot(1, 2, 2)\n",
    "plt.plot(x_values[x_values < 3], y_h, label=\"h(x) = exp(x)\", color=\"red\")\n",
    "plt.title(\"Graph of h(x) = exp(x)\")\n",
    "plt.xlabel(\"x\")\n",
    "plt.ylabel(\"h(x)\")\n",
    "plt.axhline(0, color='black',linewidth=0.5)\n",
    "plt.axvline(0, color='black',linewidth=0.5)\n",
    "plt.grid(color = 'gray', linestyle = '--', linewidth = 0.5)\n",
    "plt.legend()\n",
    "\n",
    "plt.tight_layout()\n",
    "plt.show()"
   ]
  },
  {
   "cell_type": "markdown",
   "id": "f06cf4e1",
   "metadata": {},
   "source": [
    "\n",
    "## 5. Conclusion\n",
    "This notebook introduced the basics of defining and visualizing mathematical functions in Python. We explored:\n",
    "- Defining functions with `def`\n",
    "- Evaluating functions over a range of values using `numpy`\n",
    "- Visualizing functions using `matplotlib`\n",
    "\n",
    "Feel free to experiment by defining and plotting your own functions!\n"
   ]
  }
 ],
 "metadata": {},
 "nbformat": 4,
 "nbformat_minor": 5
}
